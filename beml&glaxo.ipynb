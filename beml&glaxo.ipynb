{
 "cells": [
  {
   "cell_type": "code",
   "execution_count": 13,
   "id": "222d7840-b18c-4ad2-a074-165cfb2696d4",
   "metadata": {},
   "outputs": [],
   "source": [
    "from scipy import stats\n",
    "import pandas as pd"
   ]
  },
  {
   "cell_type": "code",
   "execution_count": 3,
   "id": "3b42b123-795e-433a-b8e3-3cb25cfd5633",
   "metadata": {},
   "outputs": [],
   "source": [
    "import numpy as np"
   ]
  },
  {
   "cell_type": "code",
   "execution_count": 22,
   "id": "063d362c-f4bb-433a-b421-4bc142cbcccf",
   "metadata": {},
   "outputs": [],
   "source": [
    "glaxo_df = pd.read_csv('glaxo_df.csv')"
   ]
  },
  {
   "cell_type": "code",
   "execution_count": 24,
   "id": "e2200ccb-d1eb-4d6c-b039-3478131d13f1",
   "metadata": {},
   "outputs": [
    {
     "name": "stdout",
     "output_type": "stream",
     "text": [
      "Gain at 95% confidence interval is: [-0.0296  0.0303]\n"
     ]
    }
   ],
   "source": [
    "glaxo_df_ci = stats.norm.interval(0.975,\n",
    "loc = glaxo_df.gain.mean(), \n",
    "scale = glaxo_df.gain.std())\n",
    "print ('Gain at 95% confidence interval is:', np.round(glaxo_df_ci,4))"
   ]
  },
  {
   "cell_type": "code",
   "execution_count": 15,
   "id": "ce0a0363-11a6-4091-a395-a544d3486eb2",
   "metadata": {},
   "outputs": [
    {
     "data": {
      "text/plain": [
       "(-0.05153272968060135, 0.052074225838715835)"
      ]
     },
     "execution_count": 15,
     "metadata": {},
     "output_type": "execute_result"
    }
   ],
   "source": [
    "beml_df=pd.read_csv('beml_df.csv')\n",
    "beml_df_ci = stats.norm.interval(0.95,\n",
    "loc = beml_df.gain.mean(),\n",
    "scale = beml_df.gain.std())\n",
    "beml_df_ci"
   ]
  },
  {
   "cell_type": "code",
   "execution_count": 25,
   "id": "888a8e3c-f637-4d75-a848-74ee1c75c414",
   "metadata": {},
   "outputs": [
    {
     "data": {
      "text/plain": [
       "1.6448536269514722"
      ]
     },
     "execution_count": 25,
     "metadata": {},
     "output_type": "execute_result"
    }
   ],
   "source": [
    "from scipy import stats\n",
    "stats.norm.ppf(.95)"
   ]
  },
  {
   "cell_type": "code",
   "execution_count": 26,
   "id": "6e536d9f-c1fd-462c-a08f-646742384570",
   "metadata": {},
   "outputs": [
    {
     "data": {
      "text/plain": [
       "1.2876717475181299"
      ]
     },
     "execution_count": 26,
     "metadata": {},
     "output_type": "execute_result"
    }
   ],
   "source": [
    "from scipy import stats\n",
    "stats.t.ppf(0.9,df=139)"
   ]
  },
  {
   "cell_type": "code",
   "execution_count": 28,
   "id": "1d40f886-ce66-462f-b5dc-3e000ebb61f5",
   "metadata": {},
   "outputs": [
    {
     "data": {
      "text/plain": [
       "(-0.029586291507515024, 0.030358373672699633)"
      ]
     },
     "execution_count": 28,
     "metadata": {},
     "output_type": "execute_result"
    }
   ],
   "source": [
    "glaxo_df_ci = stats.t.interval(.975,df=len(glaxo_df)-1,\n",
    "loc = glaxo_df.gain.mean() ,\n",
    "scale = glaxo_df.gain.std())\n",
    "glaxo_df_ci"
   ]
  },
  {
   "cell_type": "code",
   "execution_count": 32,
   "id": "690de0ea-6f6e-4673-ae9a-8218818fca39",
   "metadata": {},
   "outputs": [
    {
     "data": {
      "text/plain": [
       "(-0.05156885177136771, 0.052110347929482194)"
      ]
     },
     "execution_count": 32,
     "metadata": {},
     "output_type": "execute_result"
    }
   ],
   "source": [
    "beml_df_ci = stats.t.interval(.95,df=len(beml_df)-1,\n",
    "loc=beml_df.gain.mean(),\n",
    "scale=beml_df.gain.std())\n",
    "beml_df_ci"
   ]
  }
 ],
 "metadata": {
  "kernelspec": {
   "display_name": "Python 3",
   "language": "python",
   "name": "python3"
  },
  "language_info": {
   "codemirror_mode": {
    "name": "ipython",
    "version": 3
   },
   "file_extension": ".py",
   "mimetype": "text/x-python",
   "name": "python",
   "nbconvert_exporter": "python",
   "pygments_lexer": "ipython3",
   "version": "3.8.8"
  }
 },
 "nbformat": 4,
 "nbformat_minor": 5
}
